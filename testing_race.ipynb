{
 "cells": [
  {
   "cell_type": "code",
   "execution_count": 42,
   "id": "c2260faf-d3bc-4228-9668-f0f63bd2fca0",
   "metadata": {},
   "outputs": [],
   "source": [
    "reload(race);\n",
    "from race import Horse, Track, Race\n",
    "from importlib import reload\n",
    "import sqlite3\n",
    "\n",
    "conn = sqlite3.connect('horses.db')\n",
    "curs = conn.cursor()"
   ]
  },
  {
   "cell_type": "code",
   "execution_count": 44,
   "id": "d11bf494-52a6-4b95-8c5d-a95a9b647868",
   "metadata": {
    "tags": []
   },
   "outputs": [
    {
     "name": "stdout",
     "output_type": "stream",
     "text": [
      "{'Horse A': (5, 2),\n",
      " 'Horse B': (11, 4),\n",
      " 'Horse C': (7, 1),\n",
      " 'Horse D': (6, 1),\n",
      " 'Horse E': (15, 1),\n",
      " 'Horse F': (7, 1),\n",
      " 'Horse G': (49, 1)}\n"
     ]
    }
   ],
   "source": [
    "a = Horse('Horse A', 6,7,8)\n",
    "b = Horse('Horse B', 5,8,8)\n",
    "c = Horse('Horse C', 8,4,2)\n",
    "d = Horse('Horse D', 6,5,7)\n",
    "e = Horse('Horse E', 7,7,5)\n",
    "f = Horse('Horse F', 8,2,4)\n",
    "g = Horse('Horse G', 7,2,3)\n",
    "\n",
    "t = Track(1400, conn)\n",
    "\n",
    "r1 = Race(conn, [a,b,c,d,e,f,g], t)"
   ]
  },
  {
   "cell_type": "code",
   "execution_count": 45,
   "id": "d663d1fe-3863-471b-b3e5-4a598d46c3c4",
   "metadata": {
    "tags": []
   },
   "outputs": [
    {
     "name": "stdout",
     "output_type": "stream",
     "text": [
      "Horse A finishes number 1 in 80 seconds!\n",
      "Horse D finishes number 2 in 80 seconds!\n",
      "Horse F finishes number 3 in 80 seconds!\n",
      "Horse G finishes number 4 in 81 seconds!\n",
      "Horse B finishes number 5 in 81 seconds!\n",
      "Horse E finishes number 6 in 81 seconds!\n",
      "Horse C finishes number 7 in 81 seconds!\n"
     ]
    }
   ],
   "source": [
    "r1.simulate_race()"
   ]
  },
  {
   "cell_type": "code",
   "execution_count": 46,
   "id": "153aa250-355b-4504-ab5e-c2713589964a",
   "metadata": {
    "tags": []
   },
   "outputs": [
    {
     "name": "stdout",
     "output_type": "stream",
     "text": [
      "{'Agile': (65, 1),\n",
      " 'Alysheba': (65, 1),\n",
      " 'Baden-Baden': (9, 1),\n",
      " 'Cavalcade': (1, 1),\n",
      " 'Determine': (65, 1),\n",
      " 'Judge Himes': (65, 1),\n",
      " 'Meridian': (3, 1),\n",
      " 'Needles': (65, 1),\n",
      " 'Old Rosebud': (65, 1),\n",
      " 'Ponder': (65, 1),\n",
      " 'Silver Charm': (65, 1),\n",
      " \"Sunny's Halo\": (65, 1),\n",
      " 'Vagrant': (65, 1),\n",
      " 'War Emblem': (4, 1)}\n"
     ]
    }
   ],
   "source": [
    "r2 = Race(conn)"
   ]
  },
  {
   "cell_type": "code",
   "execution_count": 47,
   "id": "6f3d3bf1-a8b4-4f6d-8262-c51475e8da36",
   "metadata": {
    "tags": []
   },
   "outputs": [
    {
     "name": "stdout",
     "output_type": "stream",
     "text": [
      "War Emblem finishes number 1 in 99 seconds!\n",
      "Baden-Baden finishes number 2 in 99 seconds!\n",
      "Meridian finishes number 3 in 99 seconds!\n",
      "Cavalcade finishes number 4 in 99 seconds!\n",
      "Needles finishes number 5 in 100 seconds!\n",
      "Ponder finishes number 6 in 100 seconds!\n",
      "Agile finishes number 7 in 100 seconds!\n",
      "Old Rosebud finishes number 8 in 102 seconds!\n",
      "Judge Himes finishes number 9 in 102 seconds!\n",
      "Determine finishes number 10 in 102 seconds!\n",
      "Sunny's Halo finishes number 11 in 102 seconds!\n",
      "Silver Charm finishes number 12 in 102 seconds!\n",
      "Vagrant finishes number 13 in 102 seconds!\n",
      "Alysheba finishes number 14 in 103 seconds!\n"
     ]
    }
   ],
   "source": [
    "r2.simulate_race()"
   ]
  },
  {
   "cell_type": "code",
   "execution_count": null,
   "id": "bfa03c06-d463-4139-82ea-da8a7a240115",
   "metadata": {},
   "outputs": [],
   "source": []
  }
 ],
 "metadata": {
  "kernelspec": {
   "display_name": "Python 3 (ipykernel)",
   "language": "python",
   "name": "python3"
  },
  "language_info": {
   "codemirror_mode": {
    "name": "ipython",
    "version": 3
   },
   "file_extension": ".py",
   "mimetype": "text/x-python",
   "name": "python",
   "nbconvert_exporter": "python",
   "pygments_lexer": "ipython3",
   "version": "3.9.16"
  }
 },
 "nbformat": 4,
 "nbformat_minor": 5
}
