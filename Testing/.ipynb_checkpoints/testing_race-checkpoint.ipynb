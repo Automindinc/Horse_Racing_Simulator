{
 "cells": [
  {
   "cell_type": "code",
   "execution_count": 14,
   "id": "c2260faf-d3bc-4228-9668-f0f63bd2fca0",
   "metadata": {},
   "outputs": [],
   "source": [
    "from importlib import reload\n",
    "\n",
    "import race\n",
    "reload(race);\n",
    "from race import Horse, Track, Race\n",
    "import sqlite3\n",
    "\n",
    "conn = sqlite3.connect('horses.db')"
   ]
  },
  {
   "cell_type": "code",
   "execution_count": 15,
   "id": "85ac519e-53e2-4f83-9c19-65388da086ae",
   "metadata": {},
   "outputs": [],
   "source": [
    "# Run this to Rebuild Database:\n",
    "race.Rebuild_DB(conn)"
   ]
  },
  {
   "cell_type": "code",
   "execution_count": 6,
   "id": "d11bf494-52a6-4b95-8c5d-a95a9b647868",
   "metadata": {
    "tags": []
   },
   "outputs": [
    {
     "name": "stdout",
     "output_type": "stream",
     "text": [
      "{'Horse A': (4, 1),\n",
      " 'Horse B': (11, 4),\n",
      " 'Horse C': (15, 1),\n",
      " 'Horse D': (3, 1),\n",
      " 'Horse E': (65, 1),\n",
      " 'Horse F': (4, 1),\n",
      " 'Horse G': (24, 1)}\n"
     ]
    }
   ],
   "source": [
    "a = Horse('Horse A', 6,7,8)\n",
    "b = Horse('Horse B', 5,8,8)\n",
    "c = Horse('Horse C', 8,4,2)\n",
    "d = Horse('Horse D', 6,5,7)\n",
    "e = Horse('Horse E', 7,7,5)\n",
    "f = Horse('Horse F', 8,2,4)\n",
    "g = Horse('Horse G', 7,2,3)\n",
    "\n",
    "t = Track(1400, conn)\n",
    "\n",
    "r1 = Race(conn, [a,b,c,d,e,f,g], t)"
   ]
  },
  {
   "cell_type": "code",
   "execution_count": 7,
   "id": "d663d1fe-3863-471b-b3e5-4a598d46c3c4",
   "metadata": {
    "tags": []
   },
   "outputs": [
    {
     "name": "stdout",
     "output_type": "stream",
     "text": [
      "Horse E finishes number 1 in 80 seconds!\n",
      "Horse F finishes number 2 in 80 seconds!\n",
      "Horse A finishes number 3 in 80 seconds!\n",
      "Horse G finishes number 4 in 81 seconds!\n",
      "Horse B finishes number 5 in 81 seconds!\n",
      "Horse C finishes number 6 in 81 seconds!\n",
      "Horse D finishes number 7 in 81 seconds!\n"
     ]
    }
   ],
   "source": [
    "r1.simulate_race()"
   ]
  },
  {
   "cell_type": "code",
   "execution_count": 8,
   "id": "153aa250-355b-4504-ab5e-c2713589964a",
   "metadata": {
    "tags": []
   },
   "outputs": [
    {
     "name": "stdout",
     "output_type": "stream",
     "text": [
      "{'Alan-a-Dale': (65, 1),\n",
      " 'Baden-Baden': (65, 1),\n",
      " 'California Chrome': (65, 1),\n",
      " 'Citation': (7, 1),\n",
      " 'Clyde Van Dusen': (6, 1),\n",
      " 'Count Fleet': (65, 1),\n",
      " 'Funny Cide': (65, 1),\n",
      " 'Genuine Risk': (49, 1),\n",
      " 'Giacomo': (65, 1),\n",
      " 'Johnstown': (3, 1),\n",
      " 'Lord Murphy': (65, 1),\n",
      " 'Middleground': (49, 1),\n",
      " 'Needles': (65, 1),\n",
      " 'Real Quiet': (1, 1),\n",
      " 'Riley': (65, 1),\n",
      " 'Swale': (65, 1),\n",
      " 'Venetian Way': (65, 1)}\n"
     ]
    }
   ],
   "source": [
    "r2 = Race(conn)"
   ]
  },
  {
   "cell_type": "code",
   "execution_count": 9,
   "id": "6f3d3bf1-a8b4-4f6d-8262-c51475e8da36",
   "metadata": {
    "tags": []
   },
   "outputs": [
    {
     "name": "stdout",
     "output_type": "stream",
     "text": [
      "Johnstown finishes number 1 in 93 seconds!\n",
      "Genuine Risk finishes number 2 in 94 seconds!\n",
      "Citation finishes number 3 in 94 seconds!\n",
      "Clyde Van Dusen finishes number 4 in 95 seconds!\n",
      "Funny Cide finishes number 5 in 95 seconds!\n",
      "Riley finishes number 6 in 95 seconds!\n",
      "Count Fleet finishes number 7 in 95 seconds!\n",
      "Middleground finishes number 8 in 95 seconds!\n",
      "Real Quiet finishes number 9 in 95 seconds!\n",
      "Venetian Way finishes number 10 in 96 seconds!\n",
      "Giacomo finishes number 11 in 96 seconds!\n",
      "Needles finishes number 12 in 96 seconds!\n",
      "California Chrome finishes number 13 in 97 seconds!\n",
      "Lord Murphy finishes number 14 in 97 seconds!\n",
      "Baden-Baden finishes number 15 in 97 seconds!\n",
      "Swale finishes number 16 in 98 seconds!\n",
      "Alan-a-Dale finishes number 17 in 99 seconds!\n"
     ]
    }
   ],
   "source": [
    "r2.simulate_race()"
   ]
  },
  {
   "cell_type": "code",
   "execution_count": null,
   "id": "bfa03c06-d463-4139-82ea-da8a7a240115",
   "metadata": {},
   "outputs": [],
   "source": []
  }
 ],
 "metadata": {
  "kernelspec": {
   "display_name": "Python 3 (ipykernel)",
   "language": "python",
   "name": "python3"
  },
  "language_info": {
   "codemirror_mode": {
    "name": "ipython",
    "version": 3
   },
   "file_extension": ".py",
   "mimetype": "text/x-python",
   "name": "python",
   "nbconvert_exporter": "python",
   "pygments_lexer": "ipython3",
   "version": "3.9.16"
  }
 },
 "nbformat": 4,
 "nbformat_minor": 5
}
