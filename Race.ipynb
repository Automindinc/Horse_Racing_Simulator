{
 "cells": [
  {
   "cell_type": "code",
   "execution_count": 27,
   "id": "ee756340-a538-482c-8dee-d17df87e0a72",
   "metadata": {},
   "outputs": [],
   "source": [
    "import pandas as pd\n",
    "import numpy as np\n",
    "from math import ceil\n",
    "import sqlite3\n",
    "from pprint import pprint\n",
    "conn = sqlite3.connect('horses.db')\n",
    "curs = conn.cursor()\n",
    "\n",
    "def convert_to_odds(wins, trials):\n",
    "    numer = 1 - (wins/trials)\n",
    "    denom = wins/trials\n",
    "    scalar = 1/denom\n",
    "    numer *= scalar\n",
    "    denom = 1\n",
    "    if numer < denom:\n",
    "        denom = (denom * 100) / (numer * 100)\n",
    "        denom = round(denom,5)\n",
    "        numer = 1\n",
    "    return (numer, denom)\n",
    "\n",
    "def round_plus(frac_tuple):\n",
    "    numer, denom = frac_tuple\n",
    "    if numer >= 4 and denom == 1:\n",
    "        numer = numer//1\n",
    "        return (int(numer), int(denom))\n",
    "    elif denom == 4:\n",
    "        return (int(numer//1), int(denom//1))\n",
    "    elif numer % 1 < 0.5:\n",
    "        return (int(numer//1), int(denom//1))\n",
    "    else:\n",
    "        return round_plus((numer*2, denom*2))\n",
    "\n",
    "def round_minus(frac_tuple):\n",
    "    numer, denom = frac_tuple\n",
    "    if denom >= 4 and numer == 1:\n",
    "        denom = ceil(denom)\n",
    "        return (int(numer), int(denom))\n",
    "    elif numer == 4:\n",
    "        return (int(ceil(numer)), int(ceil(denom)))\n",
    "    elif denom % 1 >= 0.5:\n",
    "        return (int(round(numer)), int(round(denom)))\n",
    "    else:\n",
    "        return round_minus((numer*2, denom*2))\n",
    "\n",
    "def round_odds(frac_tuple):\n",
    "    numer, denom = frac_tuple\n",
    "    if numer > denom:\n",
    "        return round_plus(frac_tuple)\n",
    "    else:\n",
    "        return round_minus(frac_tuple)\n",
    "\n",
    "class Horse():\n",
    "    \n",
    "    def __init__(self, name, speed_rating, cons_rating, end_rating):\n",
    "        self.name = name\n",
    "        self.top_speed = speed_rating\n",
    "        self.consistency = cons_rating\n",
    "        self.endurance = end_rating\n",
    "        self.position = 0\n",
    "        self.finished = False\n",
    "    \n",
    "    def get_velocity(self, time_df, distance):\n",
    "        time_df['rating'] = -pd.qcut(time_df['top_speed'], 8, labels=False) + 8\n",
    "        samples = time_df[time_df.rating == self.top_speed]\n",
    "        mps = distance/samples['top_speed']\n",
    "        xbar, sigma = mps.mean(), mps.std()\n",
    "        self.velocity = np.random.normal(xbar, sigma)\n",
    "        return\n",
    "    \n",
    "    def get_stdev(self, times_df, distance):\n",
    "        times = times_df[['horse_id','finish_time']].copy()\n",
    "        times['finish_time'] = distance/times['finish_time']\n",
    "        st_devs = times.groupby(['horse_id'],as_index=False).std()\n",
    "        st_devs['rating'] = -pd.qcut(st_devs['finish_time'], 8, labels=False) + 8\n",
    "        samples = st_devs[st_devs.rating == self.consistency]\n",
    "        xbar, sigma = samples.finish_time.mean(), samples.finish_time.std()\n",
    "        min_stdev = min(samples.finish_time)\n",
    "        self.stdev = max((min_stdev, np.random.normal(xbar, sigma)))\n",
    "        return\n",
    "    \n",
    "    def get_fatigue(self, times_df, distance):\n",
    "        num_sects = distance // 400 + (distance % 400 > 50)\n",
    "        last_sect = 'time' + str(num_sects)\n",
    "        times_df['time_diff'] = 400/times_df[last_sect] - 400/times_df['time2']\n",
    "        times = times_df[['horse_id','time_diff']]\n",
    "        times = times.groupby(['horse_id'],as_index=False).mean()\n",
    "        times['rating'] = -pd.qcut(times['time_diff'], 8, labels=False) + 8\n",
    "        samples = times[times.rating == self.endurance]\n",
    "        xbar, sigma = samples.time_diff.mean(), samples.time_diff.std()\n",
    "        self.fatigue = np.random.normal(xbar, sigma)\n",
    "        return\n",
    "    \n",
    "    def move(self, distance):\n",
    "        if not self.finished:\n",
    "            step = np.random.normal(self.velocity, self.stdev)\n",
    "            if self.position >= distance - 400:\n",
    "                step -= self.fatigue\n",
    "            self.position += step\n",
    "            if self.position % (distance/4) < step:\n",
    "                self.stdev *= 2\n",
    "                self.fatigue *= 1.1\n",
    "        return\n",
    "     \n",
    "    def copy(self):\n",
    "        return Horse(self.name, self.top_speed, self.consistency, self.endurance)\n",
    "    \n",
    "class Track:\n",
    "    SPEED_SQL = \"\"\"\n",
    "            WITH ranked_times AS \n",
    "            (\n",
    "              SELECT horse_id, finish_time, ROW_NUMBER() OVER (PARTITION BY horse_id ORDER BY finish_time) AS row_num\n",
    "              FROM tRuns \n",
    "              JOIN tRaces USING(race_id)\n",
    "              WHERE distance = :distance\n",
    "            )\n",
    "            SELECT horse_id, num_races, avg(finish_time) as top_speed\n",
    "            FROM (SELECT horse_id, count(horse_id) as num_races FROM ranked_times GROUP BY horse_id)\n",
    "            JOIN ranked_times USING(horse_id)\n",
    "            WHERE row_num <= 3\n",
    "                AND num_races >= 10\n",
    "            GROUP BY horse_id;\n",
    "         \"\"\"\n",
    "    CONS_SQL = \"\"\"\n",
    "            WITH horses_dist AS \n",
    "            (\n",
    "              SELECT horse_id, time1, time2, time3, time4, time5, time6, finish_time\n",
    "              FROM tRuns \n",
    "              JOIN tRaces USING(race_id)\n",
    "              WHERE distance = :distance\n",
    "            )\n",
    "            SELECT horse_id, time1, time2, time3, time4, time5, time6, finish_time\n",
    "            FROM (SELECT horse_id, count(horse_id) as num_races FROM horses_dist GROUP BY horse_id)\n",
    "            JOIN horses_dist USING(horse_id)\n",
    "            WHERE num_races >= 10\n",
    "            ORDER BY horse_id;\n",
    "            \"\"\"\n",
    "    def __init__(self, distance, conn):\n",
    "        self.distance = distance\n",
    "        self.conn = conn\n",
    "        self.grouped_data, self.ungrouped_data = self.get_dist_data()\n",
    "        \n",
    "    def get_dist_data(self):\n",
    "        params = {'distance':self.distance}        \n",
    "        top_speeds_df = pd.read_sql(self.SPEED_SQL, self.conn, params=params)\n",
    "        times_df = pd.read_sql(self.CONS_SQL, self.conn, params=params)\n",
    "        return top_speeds_df, times_df\n",
    "\n",
    "    \n",
    "class Race:\n",
    "    VALID_DISTANCES = [1200, 1400, 1650, 1000, 1600, 1800]\n",
    "    \n",
    "    def __init__(self, conn, horses='random', track='random', num_horses='random'):\n",
    "        self.conn = conn\n",
    "        self.horses = horses\n",
    "        self.track = track\n",
    "        self.num_horses = num_horses\n",
    "        if self.horses == 'random':\n",
    "            self.generate_random_horses()\n",
    "        if self.track == 'random':\n",
    "            self.generate_random_track()\n",
    "        pprint(self.get_race_odds())\n",
    "        \n",
    "        \n",
    "    def generate_random_horses(self):\n",
    "        if self.num_horses == 'random':\n",
    "            self.num_horses = np.random.randint(4, 21)\n",
    "        horses = []\n",
    "        with open('horse_names.txt', 'r') as h:\n",
    "            names = h.readlines()\n",
    "        num_names = len(names)\n",
    "        used_names = []\n",
    "        for _ in range(self.num_horses):\n",
    "            while True:\n",
    "                name_idx = np.random.randint(1, num_names)\n",
    "                name = names[name_idx].split('\\n')[0]\n",
    "                if name not in used_names:\n",
    "                    used_names.append(name)\n",
    "                    break\n",
    "            speed = np.random.randint(1, 9)\n",
    "            cons = np.random.randint(1, 9)\n",
    "            endur = np.random.randint(1, 9)\n",
    "            horses.append(Horse(name, speed, cons, endur))\n",
    "        h.close()\n",
    "        self.horses = horses\n",
    "            \n",
    "            \n",
    "    def generate_random_track(self):\n",
    "        track_idx = np.random.randint(1, len(self.VALID_DISTANCES))\n",
    "        distance = self.VALID_DISTANCES[track_idx]\n",
    "        self.track = Track(distance, self.conn)\n",
    "        \n",
    "    \n",
    "    \n",
    "    def preprocess(self):\n",
    "        self.winner = False\n",
    "        distance = self.track.distance\n",
    "        for horse in self.horses:\n",
    "            horse.get_velocity(self.track.grouped_data.copy(), distance)\n",
    "            horse.get_stdev(self.track.ungrouped_data.copy(), distance)\n",
    "            horse.get_fatigue(self.track.ungrouped_data.copy(), distance)\n",
    "            horse.position = 0\n",
    "            horse.finished = False\n",
    "        return\n",
    "    \n",
    "    def get_race_odds(self, n=100):\n",
    "        odds = {horse.name:0 for horse in self.horses}\n",
    "        for _ in range(n):\n",
    "            self.simulate_race(show_finishers=False)\n",
    "            odds[self.winner.name] += 1\n",
    "        for key, value in odds.items():\n",
    "            if value == 0: \n",
    "                odds[key] += 0.75\n",
    "            if odds[key] == n:\n",
    "                odds[key] -= 0.25\n",
    "            odds[key] = round_odds(convert_to_odds(odds[key], n))\n",
    "        return odds\n",
    "    \n",
    "    def simulate_race(self, show_finishers=True):\n",
    "        self.preprocess()\n",
    "        place = 1\n",
    "        time = 0\n",
    "        while True:\n",
    "            time += 1\n",
    "            for horse in self.horses:\n",
    "                horse.move(self.track.distance)\n",
    "            if any([horse.position >= self.track.distance and not horse.finished  for horse in self.horses]):\n",
    "                finishers = [horse for horse in self.horses if horse.position >= self.track.distance and not horse.finished]\n",
    "                ranked_finishers = sorted(finishers, key=lambda x:x.position)\n",
    "                for horse in ranked_finishers:\n",
    "                    if show_finishers:\n",
    "                        print(f'{horse.name} finishes number {place} in {time} seconds!')\n",
    "                    horse.finished = True\n",
    "                    if not self.winner:\n",
    "                        self.winner = horse\n",
    "                    place += 1\n",
    "            if all([horse.finished for horse in self.horses]):\n",
    "                break \n",
    "        return     \n",
    "    \n",
    "    def determine_winner(self):\n",
    "        winner = max(self.horses, key=lambda horse: horse.position)\n",
    "        print(f\"The winner is {winner.name}!\")      \n",
    "        return\n",
    "        "
   ]
  },
  {
   "cell_type": "code",
   "execution_count": 29,
   "id": "4cd2b3da-f3a0-41b9-8f62-95ead77b9a59",
   "metadata": {
    "tags": []
   },
   "outputs": [
    {
     "name": "stdout",
     "output_type": "stream",
     "text": [
      "{'Donald': (32, 1), 'Ty': (1, 33)}\n",
      "Ty finishes number 1 in 80 seconds!\n",
      "Donald finishes number 2 in 82 seconds!\n"
     ]
    }
   ],
   "source": [
    "a = Horse('Horse A', 8,8,8)\n",
    "b = Horse('Horse B', 1,8,8)\n",
    "c = Horse('Horse C', 8,4,2)\n",
    "d = Horse('Horse D', 6,5,7)\n",
    "e = Horse('Horse E', 7,7,5)\n",
    "f = Horse('Horse F', 8,2,4)\n",
    "g = Horse('Horse G', 7,2,3)\n",
    "\n",
    "t = Track(1400, conn)\n",
    "\n",
    "r = Race(conn, [a,b,c,d,e,f,g], t)\n",
    "r.simulate_race()"
   ]
  },
  {
   "cell_type": "code",
   "execution_count": 30,
   "id": "a1e447a3-1747-487d-9bd4-9783eeb9420a",
   "metadata": {},
   "outputs": [
    {
     "name": "stdout",
     "output_type": "stream",
     "text": [
      "{'Alan-a-Dale': (132, 1),\n",
      " 'Clyde Van Dusen': (24, 1),\n",
      " 'Medina Spirit': (132, 1),\n",
      " 'Monarchos': (132, 1),\n",
      " 'Needles': (11, 4),\n",
      " 'Northern Dancer': (2, 1),\n",
      " 'Plaudit': (5, 1),\n",
      " 'Strike the Gold': (11, 1),\n",
      " 'Winning Colors': (4, 1)}\n",
      "Winning Colors finishes number 1 in 81 seconds!\n",
      "Northern Dancer finishes number 2 in 81 seconds!\n",
      "Needles finishes number 3 in 81 seconds!\n",
      "Strike the Gold finishes number 4 in 82 seconds!\n",
      "Plaudit finishes number 5 in 82 seconds!\n",
      "Clyde Van Dusen finishes number 6 in 82 seconds!\n",
      "Monarchos finishes number 7 in 83 seconds!\n",
      "Alan-a-Dale finishes number 8 in 83 seconds!\n",
      "Medina Spirit finishes number 9 in 83 seconds!\n"
     ]
    }
   ],
   "source": [
    "r = Race(conn,track=Track(1400,conn))\n",
    "r.simulate_race()"
   ]
  },
  {
   "cell_type": "code",
   "execution_count": 10,
   "id": "0b435199-18f4-45dc-8ed6-942d05f8c124",
   "metadata": {},
   "outputs": [
    {
     "name": "stdout",
     "output_type": "stream",
     "text": [
      "{'Alan-a-Dale': (8, 1),\n",
      " 'Azra': (99, 1),\n",
      " 'Barbaro': (132, 1),\n",
      " 'California Chrome': (32, 1),\n",
      " 'Carry Back': (1, 3),\n",
      " 'Chateaugay': (132, 1),\n",
      " 'Hindoo': (99, 1),\n",
      " 'Jet Pilot': (49, 1),\n",
      " 'Swale': (32, 1),\n",
      " 'War Admiral': (15, 1)}\n",
      "Swale finishes number 1 in 83 seconds!\n",
      "Carry Back finishes number 2 in 83 seconds!\n",
      "Jet Pilot finishes number 3 in 84 seconds!\n",
      "Hindoo finishes number 4 in 84 seconds!\n",
      "California Chrome finishes number 5 in 84 seconds!\n",
      "Barbaro finishes number 6 in 84 seconds!\n",
      "War Admiral finishes number 7 in 84 seconds!\n",
      "Alan-a-Dale finishes number 8 in 84 seconds!\n",
      "Chateaugay finishes number 9 in 85 seconds!\n",
      "Azra finishes number 10 in 85 seconds!\n"
     ]
    }
   ],
   "source": [
    "r = Race(conn,track=Track(1400,conn))\n",
    "r.simulate_race()"
   ]
  },
  {
   "cell_type": "code",
   "execution_count": 3,
   "id": "ddad131f-b1db-44b1-a2dc-5acb44ec3dc0",
   "metadata": {},
   "outputs": [
    {
     "name": "stdout",
     "output_type": "stream",
     "text": [
      "Gallant Fox finishes number 1 in 94 seconds!\n",
      "Bold Venture finishes number 2 in 95 seconds!\n",
      "Determine finishes number 3 in 96 seconds!\n",
      "Lawrin finishes number 4 in 96 seconds!\n",
      "Sunday Silence finishes number 5 in 97 seconds!\n",
      "Stone Street finishes number 6 in 97 seconds!\n"
     ]
    }
   ],
   "source": [
    "r.simulate_race()"
   ]
  },
  {
   "cell_type": "code",
   "execution_count": 301,
   "id": "31723aca-9571-4f15-8097-58320a962a49",
   "metadata": {
    "tags": []
   },
   "outputs": [
    {
     "data": {
      "text/plain": [
       "{'Jeremy': 5,\n",
       " 'Donald': 6,\n",
       " 'Horse B': 8,\n",
       " 'Ron': 5,\n",
       " 'Tijuan': 6,\n",
       " 'Xavier': 2,\n",
       " 'John': 3}"
      ]
     },
     "execution_count": 301,
     "metadata": {},
     "output_type": "execute_result"
    }
   ],
   "source": [
    "counts = {horse.name:0 for horse in r.horses}\n",
    "for _ in range(35):\n",
    "    r.simulate_race()\n",
    "    counts[r.winner.name] += 1\n",
    "counts"
   ]
  },
  {
   "cell_type": "code",
   "execution_count": 291,
   "id": "d8bafa3e-58e4-497b-b576-c5f16e4630cd",
   "metadata": {},
   "outputs": [],
   "source": [
    "def Get_Race_Odds(race, n=35):\n",
    "    odds = {horse.name:0 for horse in race.horses}\n",
    "    for _ in range(n):\n",
    "        race.simulate_race()\n",
    "        odds[race.winner.name] += 1\n",
    "    for key, value in odds.items():\n",
    "        if value == 0: \n",
    "            odds[key] += 0.75\n",
    "        odds[key] = round_odds(convert_to_odds(odds[key], n))\n",
    "    return odds"
   ]
  },
  {
   "cell_type": "code",
   "execution_count": 292,
   "id": "3bad8fb6-9c71-4cec-9f6c-a576f8ecddb7",
   "metadata": {},
   "outputs": [
    {
     "data": {
      "text/plain": [
       "{'Jeremy': (11, 1),\n",
       " 'Donald': (7, 2),\n",
       " 'Horse B': (5, 1),\n",
       " 'Ron': (4, 1),\n",
       " 'Tijuan': (6, 1),\n",
       " 'Xavier': (4, 1),\n",
       " 'John': (24, 1)}"
      ]
     },
     "execution_count": 292,
     "metadata": {},
     "output_type": "execute_result"
    }
   ],
   "source": [
    "Get_Race_Odds(r, 50)"
   ]
  },
  {
   "cell_type": "code",
   "execution_count": 258,
   "id": "637e86b2-c7b2-48a0-b1d3-fdb2cc2d3d32",
   "metadata": {},
   "outputs": [],
   "source": [
    "r.simulate_race()"
   ]
  },
  {
   "cell_type": "code",
   "execution_count": 199,
   "id": "c70041d0-305f-4e10-a2d9-ab8fa5c3d02b",
   "metadata": {},
   "outputs": [
    {
     "name": "stdout",
     "output_type": "stream",
     "text": [
      "4.833333333333333 1\n",
      "1.3333333333333333 1\n",
      "3.375 1\n",
      "4.833333333333333 1\n"
     ]
    },
    {
     "ename": "ZeroDivisionError",
     "evalue": "float division by zero",
     "output_type": "error",
     "traceback": [
      "\u001b[1;31m---------------------------------------------------------------------------\u001b[0m",
      "\u001b[1;31mZeroDivisionError\u001b[0m                         Traceback (most recent call last)",
      "\u001b[1;32m~\\AppData\\Local\\Temp\\ipykernel_27360\\923932092.py\u001b[0m in \u001b[0;36m<module>\u001b[1;34m\u001b[0m\n\u001b[0;32m      1\u001b[0m \u001b[0mtotal\u001b[0m \u001b[1;33m=\u001b[0m \u001b[0msum\u001b[0m\u001b[1;33m(\u001b[0m\u001b[0mcounts\u001b[0m\u001b[1;33m.\u001b[0m\u001b[0mvalues\u001b[0m\u001b[1;33m(\u001b[0m\u001b[1;33m)\u001b[0m\u001b[1;33m)\u001b[0m\u001b[1;33m\u001b[0m\u001b[1;33m\u001b[0m\u001b[0m\n\u001b[0;32m      2\u001b[0m \u001b[1;32mfor\u001b[0m \u001b[0mkey\u001b[0m \u001b[1;32min\u001b[0m \u001b[0mcounts\u001b[0m\u001b[1;33m.\u001b[0m\u001b[0mkeys\u001b[0m\u001b[1;33m(\u001b[0m\u001b[1;33m)\u001b[0m\u001b[1;33m:\u001b[0m\u001b[1;33m\u001b[0m\u001b[1;33m\u001b[0m\u001b[0m\n\u001b[1;32m----> 3\u001b[1;33m     \u001b[0mcounts\u001b[0m\u001b[1;33m[\u001b[0m\u001b[0mkey\u001b[0m\u001b[1;33m]\u001b[0m \u001b[1;33m=\u001b[0m \u001b[0mround_odds\u001b[0m\u001b[1;33m(\u001b[0m\u001b[0mconvert_to_odds\u001b[0m\u001b[1;33m(\u001b[0m\u001b[0mcounts\u001b[0m\u001b[1;33m[\u001b[0m\u001b[0mkey\u001b[0m\u001b[1;33m]\u001b[0m\u001b[1;33m,\u001b[0m \u001b[0mtotal\u001b[0m\u001b[1;33m)\u001b[0m\u001b[1;33m)\u001b[0m\u001b[1;33m\u001b[0m\u001b[1;33m\u001b[0m\u001b[0m\n\u001b[0m\u001b[0;32m      4\u001b[0m \u001b[0mcounts\u001b[0m\u001b[1;33m\u001b[0m\u001b[1;33m\u001b[0m\u001b[0m\n",
      "\u001b[1;32m~\\AppData\\Local\\Temp\\ipykernel_27360\\956463814.py\u001b[0m in \u001b[0;36mconvert_to_odds\u001b[1;34m(wins, trials)\u001b[0m\n\u001b[0;32m      2\u001b[0m     \u001b[0mnumer\u001b[0m \u001b[1;33m=\u001b[0m \u001b[1;36m1\u001b[0m \u001b[1;33m-\u001b[0m \u001b[1;33m(\u001b[0m\u001b[0mwins\u001b[0m\u001b[1;33m/\u001b[0m\u001b[0mtrials\u001b[0m\u001b[1;33m)\u001b[0m\u001b[1;33m\u001b[0m\u001b[1;33m\u001b[0m\u001b[0m\n\u001b[0;32m      3\u001b[0m     \u001b[0mdenom\u001b[0m \u001b[1;33m=\u001b[0m \u001b[0mwins\u001b[0m\u001b[1;33m/\u001b[0m\u001b[0mtrials\u001b[0m\u001b[1;33m\u001b[0m\u001b[1;33m\u001b[0m\u001b[0m\n\u001b[1;32m----> 4\u001b[1;33m     \u001b[0mscalar\u001b[0m \u001b[1;33m=\u001b[0m \u001b[1;36m1\u001b[0m\u001b[1;33m/\u001b[0m\u001b[0mdenom\u001b[0m\u001b[1;33m\u001b[0m\u001b[1;33m\u001b[0m\u001b[0m\n\u001b[0m\u001b[0;32m      5\u001b[0m     \u001b[0mnumer\u001b[0m \u001b[1;33m*=\u001b[0m \u001b[0mscalar\u001b[0m\u001b[1;33m\u001b[0m\u001b[1;33m\u001b[0m\u001b[0m\n\u001b[0;32m      6\u001b[0m     \u001b[0mdenom\u001b[0m \u001b[1;33m=\u001b[0m \u001b[1;36m1\u001b[0m\u001b[1;33m\u001b[0m\u001b[1;33m\u001b[0m\u001b[0m\n",
      "\u001b[1;31mZeroDivisionError\u001b[0m: float division by zero"
     ]
    }
   ],
   "source": [
    "total = sum(counts.values())\n",
    "for key in counts.keys():\n",
    "    counts[key] = round_odds(convert_to_odds(counts[key], total))\n",
    "counts"
   ]
  },
  {
   "cell_type": "code",
   "execution_count": 200,
   "id": "d37d9d39-39da-4ec6-a106-c11bea9dc63b",
   "metadata": {},
   "outputs": [
    {
     "data": {
      "text/plain": [
       "{'Jeremy': (4, 1),\n",
       " 'Donald': (1, 1),\n",
       " 'Horse B': (3, 1),\n",
       " 'Ron': (4, 1),\n",
       " 'Tijuan': 0,\n",
       " 'Xavier': 0,\n",
       " 'John': 0}"
      ]
     },
     "execution_count": 200,
     "metadata": {},
     "output_type": "execute_result"
    }
   ],
   "source": [
    "counts"
   ]
  },
  {
   "cell_type": "code",
   "execution_count": 241,
   "id": "c2f29206-f28b-4f88-bfcc-4902dd2566b7",
   "metadata": {},
   "outputs": [],
   "source": [
    "def convert_to_odds(wins, trials):\n",
    "    numer = 1 - (wins/trials)\n",
    "    denom = wins/trials\n",
    "    scalar = 1/denom\n",
    "    numer *= scalar\n",
    "    denom = 1\n",
    "    if numer < denom:\n",
    "        denom = (denom * 100) / (numer * 100)\n",
    "        denom = round(denom,5)\n",
    "        numer = 1\n",
    "    return (numer, denom)"
   ]
  },
  {
   "cell_type": "code",
   "execution_count": 338,
   "id": "526b8e18-dc5b-488b-93d8-f038dfdb7430",
   "metadata": {},
   "outputs": [],
   "source": [
    "def round_plus(frac_tuple):\n",
    "    # For plus odds rn\n",
    "    numer, denom = frac_tuple\n",
    "    if numer >= 4 and denom == 1:\n",
    "        numer = numer//1\n",
    "        return (int(numer), int(denom))\n",
    "    elif denom == 4:\n",
    "        return (int(numer//1), int(denom//1))\n",
    "    elif numer % 1 < 0.5:\n",
    "        return (int(numer//1), int(denom//1))\n",
    "    else:\n",
    "        return round_plus((numer*2, denom*2))\n",
    "\n",
    "def round_minus(frac_tuple):\n",
    "    numer, denom = frac_tuple\n",
    "    if denom >= 4 and numer == 1:\n",
    "        denom = ceil(denom)\n",
    "        return (int(numer), int(denom))\n",
    "    elif numer == 4:\n",
    "        return (int(ceil(numer)), int(ceil(denom)))\n",
    "    elif denom % 1 >= 0.5:\n",
    "        return (int(round(numer)), int(round(denom)))\n",
    "    else:\n",
    "        return round_minus((numer*2, denom*2))\n",
    "\n",
    "def round_odds(frac_tuple):\n",
    "    numer, denom = frac_tuple\n",
    "    if numer > denom:\n",
    "        return round_plus(frac_tuple)\n",
    "    else:\n",
    "        return round_minus(frac_tuple)"
   ]
  },
  {
   "cell_type": "code",
   "execution_count": 334,
   "id": "5d7371d5-793b-4ccc-8263-92df438f0c16",
   "metadata": {},
   "outputs": [
    {
     "data": {
      "text/plain": [
       "(1, 1.3125)"
      ]
     },
     "execution_count": 334,
     "metadata": {},
     "output_type": "execute_result"
    }
   ],
   "source": [
    "frac = convert_to_odds(21, 37)\n",
    "frac"
   ]
  },
  {
   "cell_type": "code",
   "execution_count": 339,
   "id": "1aaaac59-4b96-4537-9275-b75adcfe3b3e",
   "metadata": {},
   "outputs": [
    {
     "data": {
      "text/plain": [
       "(1, 2)"
      ]
     },
     "execution_count": 339,
     "metadata": {},
     "output_type": "execute_result"
    }
   ],
   "source": [
    "round_odds((1,1.5))"
   ]
  },
  {
   "cell_type": "code",
   "execution_count": 144,
   "id": "81f9b68d-a27d-4b60-afe3-74043de7663b",
   "metadata": {},
   "outputs": [
    {
     "data": {
      "text/plain": [
       "(2, 1)"
      ]
     },
     "execution_count": 149,
     "metadata": {},
     "output_type": "execute_result"
    }
   ],
   "source": [
    "x = ()\n",
    "x[1]"
   ]
  },
  {
   "cell_type": "code",
   "execution_count": 45,
   "id": "3de906f8-667f-4b86-9e32-20d947e64ce8",
   "metadata": {},
   "outputs": [],
   "source": [
    "conn.close()"
   ]
  },
  {
   "cell_type": "code",
   "execution_count": 11,
   "id": "9a0190f3-a28c-4bc1-a9df-0340ae1d6696",
   "metadata": {},
   "outputs": [
    {
     "ename": "SyntaxError",
     "evalue": "invalid syntax (2805911722.py, line 3)",
     "output_type": "error",
     "traceback": [
      "\u001b[1;36m  File \u001b[1;32m\"C:\\Users\\ptsch\\AppData\\Local\\Temp\\ipykernel_27360\\2805911722.py\"\u001b[1;36m, line \u001b[1;32m3\u001b[0m\n\u001b[1;33m    x*= 4, y *= 4\u001b[0m\n\u001b[1;37m             ^\u001b[0m\n\u001b[1;31mSyntaxError\u001b[0m\u001b[1;31m:\u001b[0m invalid syntax\n"
     ]
    }
   ],
   "source": [
    "x = 3\n",
    "y = 2\n"
   ]
  },
  {
   "cell_type": "code",
   "execution_count": 194,
   "id": "c6f9c1c2-65f2-4d51-acac-8b7b8152bd2a",
   "metadata": {},
   "outputs": [
    {
     "ename": "TypeError",
     "evalue": "int() argument must be a string, a bytes-like object or a number, not 'tuple'",
     "output_type": "error",
     "traceback": [
      "\u001b[1;31m---------------------------------------------------------------------------\u001b[0m",
      "\u001b[1;31mTypeError\u001b[0m                                 Traceback (most recent call last)",
      "\u001b[1;32m~\\AppData\\Local\\Temp\\ipykernel_27360\\2878685737.py\u001b[0m in \u001b[0;36m<module>\u001b[1;34m\u001b[0m\n\u001b[1;32m----> 1\u001b[1;33m \u001b[0mint\u001b[0m\u001b[1;33m(\u001b[0m\u001b[1;33m(\u001b[0m\u001b[1;36m2.1\u001b[0m\u001b[1;33m,\u001b[0m\u001b[1;36m2.3\u001b[0m\u001b[1;33m)\u001b[0m\u001b[1;33m)\u001b[0m\u001b[1;33m\u001b[0m\u001b[1;33m\u001b[0m\u001b[0m\n\u001b[0m",
      "\u001b[1;31mTypeError\u001b[0m: int() argument must be a string, a bytes-like object or a number, not 'tuple'"
     ]
    }
   ],
   "source": [
    "int((2.1,2.3))"
   ]
  },
  {
   "cell_type": "code",
   "execution_count": 174,
   "id": "1a1d30dd-7051-48c4-a198-4525a2b44cd3",
   "metadata": {},
   "outputs": [
    {
     "data": {
      "text/plain": [
       "2"
      ]
     },
     "execution_count": 174,
     "metadata": {},
     "output_type": "execute_result"
    }
   ],
   "source": [
    "int(2.9)"
   ]
  },
  {
   "cell_type": "code",
   "execution_count": 176,
   "id": "66e26330-9661-4a3b-83ea-1a154d9b04be",
   "metadata": {},
   "outputs": [
    {
     "data": {
      "text/plain": [
       "2"
      ]
     },
     "execution_count": 176,
     "metadata": {},
     "output_type": "execute_result"
    }
   ],
   "source": []
  },
  {
   "cell_type": "code",
   "execution_count": 348,
   "id": "5dd25e10-f621-4063-a580-8d82afb671cd",
   "metadata": {},
   "outputs": [
    {
     "name": "stdout",
     "output_type": "stream",
     "text": [
      "Omar Khayyam\n",
      "\n"
     ]
    }
   ],
   "source": [
    "with open('horse_names.txt', 'r') as h:\n",
    "    names = h.readlines()\n",
    "idx = np.random.randint(len(names))\n",
    "print(names[idx])\n",
    "h.close()"
   ]
  },
  {
   "cell_type": "code",
   "execution_count": 356,
   "id": "40594f2d-d975-4176-95f7-ef1ff5ba77ad",
   "metadata": {},
   "outputs": [
    {
     "data": {
      "text/plain": [
       "0"
      ]
     },
     "execution_count": 356,
     "metadata": {},
     "output_type": "execute_result"
    }
   ],
   "source": [
    "np.random.randint(6)"
   ]
  },
  {
   "cell_type": "code",
   "execution_count": null,
   "id": "e9817134-05ac-4baf-a4a4-051004f691e9",
   "metadata": {},
   "outputs": [],
   "source": []
  }
 ],
 "metadata": {
  "kernelspec": {
   "display_name": "Python 3 (ipykernel)",
   "language": "python",
   "name": "python3"
  },
  "language_info": {
   "codemirror_mode": {
    "name": "ipython",
    "version": 3
   },
   "file_extension": ".py",
   "mimetype": "text/x-python",
   "name": "python",
   "nbconvert_exporter": "python",
   "pygments_lexer": "ipython3",
   "version": "3.9.16"
  }
 },
 "nbformat": 4,
 "nbformat_minor": 5
}
