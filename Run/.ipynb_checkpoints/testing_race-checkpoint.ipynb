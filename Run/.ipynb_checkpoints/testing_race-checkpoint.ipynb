{
 "cells": [
  {
   "cell_type": "code",
   "execution_count": 12,
   "id": "c2260faf-d3bc-4228-9668-f0f63bd2fca0",
   "metadata": {},
   "outputs": [],
   "source": [
    "from importlib import reload\n",
    "\n",
    "import race\n",
    "import utils\n",
    "\n",
    "\n",
    "reload(race);\n",
    "from race import Horse, Track, Race\n",
    "import pandas as pd"
   ]
  },
  {
   "cell_type": "code",
   "execution_count": 20,
   "id": "b73fa9c5-cdcd-4fe9-97d3-cca0c5c7d7c4",
   "metadata": {},
   "outputs": [
    {
     "name": "stdout",
     "output_type": "stream",
     "text": [
      "\n",
      "{'Count Fleet': (65, 1),\n",
      " 'Gallahadion': (65, 1),\n",
      " 'Jet Pilot': (2, 1),\n",
      " 'Justify': (49, 1),\n",
      " 'Kingman': (65, 1),\n",
      " 'Middleground': (4, 1),\n",
      " 'Montrose': (65, 1),\n",
      " 'Northern Dancer': (7, 2),\n",
      " 'Worth': (3, 1)}\n"
     ]
    }
   ],
   "source": [
    "r = Race()"
   ]
  },
  {
   "cell_type": "code",
   "execution_count": 6,
   "id": "d669dc30-c092-4203-9773-2b393e9a05e1",
   "metadata": {},
   "outputs": [
    {
     "name": "stdout",
     "output_type": "stream",
     "text": [
      "Venetian Way finishes number 1 in 106 seconds!\n",
      "Stone Street finishes number 2 in 107 seconds!\n",
      "Dust Commander finishes number 3 in 107 seconds!\n",
      "Mine That Bird finishes number 4 in 107 seconds!\n",
      "Typhoon II finishes number 5 in 108 seconds!\n",
      "Buchanan finishes number 6 in 108 seconds!\n",
      "Chateaugay finishes number 7 in 108 seconds!\n",
      "Real Quiet finishes number 8 in 108 seconds!\n",
      "Alysheba finishes number 9 in 108 seconds!\n",
      "Johnstown finishes number 10 in 108 seconds!\n",
      "Manuel finishes number 11 in 109 seconds!\n",
      "Tomy Lee finishes number 12 in 109 seconds!\n",
      "Count Fleet finishes number 13 in 109 seconds!\n",
      "Hoop Jr. finishes number 14 in 110 seconds!\n",
      "Vagrant finishes number 15 in 110 seconds!\n",
      "Grindstone finishes number 16 in 111 seconds!\n"
     ]
    },
    {
     "data": {
      "text/plain": [
       "{'Venetian Way': (106, 1),\n",
       " 'Stone Street': (107, 2),\n",
       " 'Dust Commander': (107, 3),\n",
       " 'Mine That Bird': (107, 4),\n",
       " 'Typhoon II': (108, 5),\n",
       " 'Buchanan': (108, 6),\n",
       " 'Chateaugay': (108, 7),\n",
       " 'Real Quiet': (108, 8),\n",
       " 'Alysheba': (108, 9),\n",
       " 'Johnstown': (108, 10),\n",
       " 'Manuel': (109, 11),\n",
       " 'Tomy Lee': (109, 12),\n",
       " 'Count Fleet': (109, 13),\n",
       " 'Hoop Jr.': (110, 14),\n",
       " 'Vagrant': (110, 15),\n",
       " 'Grindstone': (111, 16)}"
      ]
     },
     "execution_count": 6,
     "metadata": {},
     "output_type": "execute_result"
    }
   ],
   "source": [
    "r.simulate_race()"
   ]
  },
  {
   "cell_type": "code",
   "execution_count": 3,
   "id": "d11bf494-52a6-4b95-8c5d-a95a9b647868",
   "metadata": {
    "collapsed": true,
    "jupyter": {
     "outputs_hidden": true
    },
    "tags": []
   },
   "outputs": [
    {
     "name": "stdout",
     "output_type": "stream",
     "text": [
      "Momos\n",
      "26\n",
      "Alexis S\n",
      "15\n",
      "Maya Prince\n",
      "16\n",
      "Biz Biz Buzz\n",
      "17\n",
      "Alogon\n",
      "13\n",
      "Yes and Yes\n",
      "33\n",
      "Souper Quest\n",
      "5\n",
      "Nobals\n",
      "18\n",
      "Outlaw Kid\n",
      "11\n",
      "High Limit Room\n",
      "16\n",
      "\n"
     ]
    }
   ],
   "source": [
    "a = Horse('Momos', real_horse=True)\n",
    "b = Horse(\"Alexis S\", real_horse=True)\n",
    "c = Horse('Maya Prince', real_horse=True)\n",
    "d = Horse('Biz Biz Buzz', real_horse=True)\n",
    "e = Horse('Alogon', real_horse=True)\n",
    "f = Horse('Yes and Yes', real_horse=True)\n",
    "g = Horse('Souper Quest', real_horse=True)\n",
    "h = Horse('Nobals', real_horse=True)\n",
    "i = Horse('Outlaw Kid', real_horse=True)\n",
    "j = Horse(\"High Limit Room\", real_horse=True)\n",
    "\n",
    "t = Track(1100)"
   ]
  },
  {
   "cell_type": "code",
   "execution_count": 4,
   "id": "c7dad5c7-025b-4abb-8fb0-21f9ff1366e7",
   "metadata": {},
   "outputs": [
    {
     "name": "stdout",
     "output_type": "stream",
     "text": [
      "{'Alexis S': (9, 1),\n",
      " 'Alogon': (2, 1),\n",
      " 'Biz Biz Buzz': (65, 1),\n",
      " 'High Limit Room': (65, 1),\n",
      " 'Maya Prince': (15, 1),\n",
      " 'Momos': (49, 1),\n",
      " 'Nobals': (15, 1),\n",
      " 'Outlaw Kid': (11, 1),\n",
      " 'Souper Quest': (4, 1),\n",
      " 'Yes and Yes': (4, 1)}\n"
     ]
    }
   ],
   "source": [
    "r2 = Race([a,b,c,d,e,f,g,h,i,j], t)"
   ]
  },
  {
   "cell_type": "code",
   "execution_count": 10,
   "id": "dc1c6493-4a4d-4ea2-8bb7-2dcead8edd5a",
   "metadata": {},
   "outputs": [
    {
     "name": "stdout",
     "output_type": "stream",
     "text": [
      "Outlaw Kid finishes number 1 in 61 seconds!\n",
      "Alogon finishes number 2 in 61 seconds!\n",
      "Souper Quest finishes number 3 in 62 seconds!\n",
      "High Limit Room finishes number 4 in 62 seconds!\n",
      "Yes and Yes finishes number 5 in 62 seconds!\n",
      "Alexis S finishes number 6 in 62 seconds!\n",
      "Nobals finishes number 7 in 63 seconds!\n",
      "Maya Prince finishes number 8 in 63 seconds!\n",
      "Momos finishes number 9 in 63 seconds!\n",
      "Biz Biz Buzz finishes number 10 in 67 seconds!\n"
     ]
    },
    {
     "data": {
      "text/plain": [
       "{'Outlaw Kid': (61, 1),\n",
       " 'Alogon': (61, 2),\n",
       " 'Souper Quest': (62, 3),\n",
       " 'High Limit Room': (62, 4),\n",
       " 'Yes and Yes': (62, 5),\n",
       " 'Alexis S': (62, 6),\n",
       " 'Nobals': (63, 7),\n",
       " 'Maya Prince': (63, 8),\n",
       " 'Momos': (63, 9),\n",
       " 'Biz Biz Buzz': (67, 10)}"
      ]
     },
     "execution_count": 10,
     "metadata": {},
     "output_type": "execute_result"
    }
   ],
   "source": [
    "r2.simulate_race()"
   ]
  },
  {
   "cell_type": "code",
   "execution_count": 18,
   "id": "a415a50e-de4b-4c05-9bc9-6f786f790849",
   "metadata": {},
   "outputs": [
    {
     "name": "stdout",
     "output_type": "stream",
     "text": [
      "Dynadrive\n",
      "32\n",
      "McLovin\n",
      "12\n",
      "Sy Dog\n",
      "10\n",
      "Glider\n",
      "0\n"
     ]
    },
    {
     "ename": "ValueError",
     "evalue": "Data not found for horse: Glider",
     "output_type": "error",
     "traceback": [
      "\u001b[1;31m---------------------------------------------------------------------------\u001b[0m",
      "\u001b[1;31mValueError\u001b[0m                                Traceback (most recent call last)",
      "\u001b[1;32m~\\AppData\\Local\\Temp\\ipykernel_28988\\2978950299.py\u001b[0m in \u001b[0;36m<module>\u001b[1;34m\u001b[0m\n\u001b[0;32m      2\u001b[0m \u001b[0mb\u001b[0m \u001b[1;33m=\u001b[0m \u001b[0mHorse\u001b[0m\u001b[1;33m(\u001b[0m\u001b[1;34m'McLovin'\u001b[0m\u001b[1;33m,\u001b[0m \u001b[0mreal_horse\u001b[0m\u001b[1;33m=\u001b[0m\u001b[1;32mTrue\u001b[0m\u001b[1;33m)\u001b[0m\u001b[1;33m\u001b[0m\u001b[1;33m\u001b[0m\u001b[0m\n\u001b[0;32m      3\u001b[0m \u001b[0mc\u001b[0m \u001b[1;33m=\u001b[0m \u001b[0mHorse\u001b[0m\u001b[1;33m(\u001b[0m\u001b[1;34m'Sy Dog'\u001b[0m\u001b[1;33m,\u001b[0m \u001b[0mreal_horse\u001b[0m\u001b[1;33m=\u001b[0m\u001b[1;32mTrue\u001b[0m\u001b[1;33m)\u001b[0m\u001b[1;33m\u001b[0m\u001b[1;33m\u001b[0m\u001b[0m\n\u001b[1;32m----> 4\u001b[1;33m \u001b[0md\u001b[0m \u001b[1;33m=\u001b[0m \u001b[0mHorse\u001b[0m\u001b[1;33m(\u001b[0m\u001b[1;34m'Glider'\u001b[0m\u001b[1;33m,\u001b[0m \u001b[0mreal_horse\u001b[0m\u001b[1;33m=\u001b[0m\u001b[1;32mTrue\u001b[0m\u001b[1;33m)\u001b[0m\u001b[1;33m\u001b[0m\u001b[1;33m\u001b[0m\u001b[0m\n\u001b[0m\u001b[0;32m      5\u001b[0m \u001b[0me\u001b[0m \u001b[1;33m=\u001b[0m \u001b[0mHorse\u001b[0m\u001b[1;33m(\u001b[0m\u001b[1;34m'Ajourneytofreedom'\u001b[0m\u001b[1;33m,\u001b[0m \u001b[0mreal_horse\u001b[0m\u001b[1;33m=\u001b[0m\u001b[1;32mTrue\u001b[0m\u001b[1;33m)\u001b[0m\u001b[1;33m\u001b[0m\u001b[1;33m\u001b[0m\u001b[0m\n\u001b[0;32m      6\u001b[0m \u001b[0mf\u001b[0m \u001b[1;33m=\u001b[0m \u001b[0mHorse\u001b[0m\u001b[1;33m(\u001b[0m\u001b[1;34m'Monaasib'\u001b[0m\u001b[1;33m,\u001b[0m \u001b[0mreal_horse\u001b[0m\u001b[1;33m=\u001b[0m\u001b[1;32mTrue\u001b[0m\u001b[1;33m)\u001b[0m\u001b[1;33m\u001b[0m\u001b[1;33m\u001b[0m\u001b[0m\n",
      "\u001b[1;32m~\\DSProjects\\Horse_Racing_Simulator\\Run\\race.py\u001b[0m in \u001b[0;36m__init__\u001b[1;34m(self, name, speed_rating, cons_rating, end_rating, real_horse)\u001b[0m\n\u001b[0;32m     28\u001b[0m             \u001b[0mprint\u001b[0m\u001b[1;33m(\u001b[0m\u001b[0mlen\u001b[0m\u001b[1;33m(\u001b[0m\u001b[0mself\u001b[0m\u001b[1;33m.\u001b[0m\u001b[0mtimes_df\u001b[0m\u001b[1;33m)\u001b[0m\u001b[1;33m)\u001b[0m\u001b[1;33m\u001b[0m\u001b[1;33m\u001b[0m\u001b[0m\n\u001b[0;32m     29\u001b[0m             \u001b[1;32mif\u001b[0m \u001b[0mlen\u001b[0m\u001b[1;33m(\u001b[0m\u001b[0mself\u001b[0m\u001b[1;33m.\u001b[0m\u001b[0mtimes_df\u001b[0m\u001b[1;33m)\u001b[0m \u001b[1;33m==\u001b[0m \u001b[1;36m0\u001b[0m\u001b[1;33m:\u001b[0m \u001b[1;31m# If the horseracingnation.com has a page for the horse but no data\u001b[0m\u001b[1;33m\u001b[0m\u001b[1;33m\u001b[0m\u001b[0m\n\u001b[1;32m---> 30\u001b[1;33m                 \u001b[1;32mraise\u001b[0m \u001b[0mValueError\u001b[0m\u001b[1;33m(\u001b[0m\u001b[1;34mf\"Data not found for horse: {self.name}\"\u001b[0m\u001b[1;33m)\u001b[0m \u001b[1;31m# Used for website error handling\u001b[0m\u001b[1;33m\u001b[0m\u001b[1;33m\u001b[0m\u001b[0m\n\u001b[0m\u001b[0;32m     31\u001b[0m         \u001b[0mself\u001b[0m\u001b[1;33m.\u001b[0m\u001b[0mposition\u001b[0m \u001b[1;33m=\u001b[0m \u001b[1;36m0\u001b[0m  \u001b[1;31m# How far the horse is on the track in meters\u001b[0m\u001b[1;33m\u001b[0m\u001b[1;33m\u001b[0m\u001b[0m\n\u001b[0;32m     32\u001b[0m         \u001b[0mself\u001b[0m\u001b[1;33m.\u001b[0m\u001b[0mfinished\u001b[0m \u001b[1;33m=\u001b[0m \u001b[1;32mFalse\u001b[0m\u001b[1;33m\u001b[0m\u001b[1;33m\u001b[0m\u001b[0m\n",
      "\u001b[1;31mValueError\u001b[0m: Data not found for horse: Glider"
     ]
    }
   ],
   "source": [
    "j = Horse('Starting Over', real_horse=True)\n",
    "k = Horse('Glider', real_horse=True)\n",
    "\n",
    "\n",
    "t = Track(1100)"
   ]
  }
 ],
 "metadata": {
  "kernelspec": {
   "display_name": "Python 3 (ipykernel)",
   "language": "python",
   "name": "python3"
  },
  "language_info": {
   "codemirror_mode": {
    "name": "ipython",
    "version": 3
   },
   "file_extension": ".py",
   "mimetype": "text/x-python",
   "name": "python",
   "nbconvert_exporter": "python",
   "pygments_lexer": "ipython3",
   "version": "3.9.16"
  }
 },
 "nbformat": 4,
 "nbformat_minor": 5
}
